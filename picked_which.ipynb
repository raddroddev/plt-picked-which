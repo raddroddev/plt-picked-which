{
 "cells": [
  {
   "cell_type": "code",
   "execution_count": null,
   "id": "b0ffc735",
   "metadata": {},
   "outputs": [],
   "source": [
    "# interactive plots embedded within the notebook\n",
    "%matplotlib notebook\n",
    "\n",
    "import matplotlib.pyplot as plt\n",
    "import numpy as np"
   ]
  },
  {
   "cell_type": "code",
   "execution_count": null,
   "id": "0f2e92b7",
   "metadata": {},
   "outputs": [],
   "source": [
    "def on_pick(event):\n",
    "    if(event.artist == sine_0):\n",
    "        text.set_text(\"sine_0 picked!\")\n",
    "        sine_0.set_linewidth(5)\n",
    "        sine_1.set_linewidth(2)\n",
    "        sine_0.set_zorder(1)\n",
    "        sine_1.set_zorder(0)\n",
    "        plt.draw()\n",
    "    elif(event.artist == sine_1):\n",
    "        text.set_text(\"sine_1 picked!\")\n",
    "        sine_0.set_linewidth(2)\n",
    "        sine_1.set_linewidth(5)\n",
    "        sine_0.set_zorder(0)\n",
    "        sine_1.set_zorder(1)\n",
    "        plt.draw()"
   ]
  },
  {
   "cell_type": "code",
   "execution_count": null,
   "id": "59b336a7",
   "metadata": {},
   "outputs": [],
   "source": [
    "# make data\n",
    "x = np.linspace(0, 10, 1000)\n",
    "y0 = 4 + 2 * np.sin(2 * x) #sine_0 data\n",
    "y1 = 4 + 2.8 * np.sin(4 * x) #sine_1 data\n",
    "\n",
    "# plot\n",
    "fig, ax = plt.subplots()\n",
    "\n",
    "sine_0, = ax.plot(x, y0, linewidth=2.0, #get Line2D object, VITAL!\n",
    "                    picker=True, pickradius=5) \n",
    "sine_1, = ax.plot(x,y1, linewidth=2.0,  #get Line2D object, VITAL!\n",
    "                    picker=True, pickradius=5)\n",
    "\n",
    "pickevent_ID = plt.connect('pick_event', on_pick)\n",
    "\n",
    "# text for showing which line is picked\n",
    "text = plt.text(0.5,7.4, \"no pick\", fontweight='bold', fontsize='large')\n",
    "text.set_bbox(dict(facecolor='red', alpha=0.5, boxstyle=\"Round\"))\n",
    "\n",
    "ax.set(xlim=(0, 8), xticks=np.arange(1, 8),\n",
    "       ylim=(0, 8), yticks=np.arange(1, 8))\n",
    "plt.tight_layout()\n",
    "plt.show()"
   ]
  },
  {
   "cell_type": "code",
   "execution_count": null,
   "id": "273d4979",
   "metadata": {},
   "outputs": [],
   "source": []
  }
 ],
 "metadata": {
  "kernelspec": {
   "display_name": "Python 3 (ipykernel)",
   "language": "python",
   "name": "python3"
  },
  "language_info": {
   "codemirror_mode": {
    "name": "ipython",
    "version": 3
   },
   "file_extension": ".py",
   "mimetype": "text/x-python",
   "name": "python",
   "nbconvert_exporter": "python",
   "pygments_lexer": "ipython3",
   "version": "3.10.4"
  }
 },
 "nbformat": 4,
 "nbformat_minor": 5
}
